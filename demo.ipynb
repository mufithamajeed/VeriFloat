{
 "cells": [
  {
   "cell_type": "markdown",
   "id": "c472e6e0",
   "metadata": {},
   "source": [
    "# VeriFloat — Formal Verification of Financial Models using Z3\n",
    "\n",
    "This interactive notebook demonstrates how to use **Z3 SMT Solver** to formally verify the consistency of simple financial models under various conditions.\n",
    "\n",
    "We will explore:\n",
    "- Basic portfolio return verification\n",
    "- Impact of floating-point numerical drift\n",
    "- Multi-period portfolio return consistency"
   ]
  },
  {
   "cell_type": "code",
   "execution_count": 3,
   "id": "77909a8c",
   "metadata": {},
   "outputs": [
    {
     "name": "stdout",
     "output_type": "stream",
     "text": [
      "Requirement already satisfied: z3-solver in c:\\users\\hp\\appdata\\local\\packages\\pythonsoftwarefoundation.python.3.9_qbz5n2kfra8p0\\localcache\\local-packages\\python39\\site-packages (4.15.1.0)\n"
     ]
    }
   ],
   "source": [
    "!pip install z3-solver"
   ]
  },
  {
   "cell_type": "markdown",
   "id": "a90ee8f7",
   "metadata": {},
   "source": [
    "## Basic Portfolio Return Verification\n",
    "\n",
    "We model a simple portfolio return:\n",
    "\n",
    "$$\n",
    "\\text{Return} = w_1 r_1 + w_2 r_2 + w_3 r_3\n",
    "$$\n",
    "\n",
    "We verify that the return remains within $[-1, 1]$ under the constraints:\n",
    "- $ 0 \\leq w_1, w_2, w_3 \\leq 1 $\n",
    "- $ w_1 + w_2 + w_3 \\leq 1 $\n",
    "- $ -1 \\leq r_1, r_2, r_3 \\leq 1 $"
   ]
  },
  {
   "cell_type": "code",
   "execution_count": 4,
   "id": "2328b1d8",
   "metadata": {},
   "outputs": [
    {
     "data": {
      "text/plain": [
       "'Property holds: Portfolio return within [-1, 1]'"
      ]
     },
     "execution_count": 4,
     "metadata": {},
     "output_type": "execute_result"
    }
   ],
   "source": [
    "from z3 import Real, Solver, And, Or, sat\n",
    "\n",
    "def verify_portfolio_return():\n",
    "    w1, w2, w3 = Real('w1'), Real('w2'), Real('w3')\n",
    "    r1, r2, r3 = Real('r1'), Real('r2'), Real('r3')\n",
    "\n",
    "    portfolio_return = w1 * r1 + w2 * r2 + w3 * r3\n",
    "\n",
    "    constraints = [\n",
    "        w1 >= 0, w1 <= 1,\n",
    "        w2 >= 0, w2 <= 1,\n",
    "        w3 >= 0, w3 <= 1,\n",
    "        (w1 + w2 + w3) <= 1,\n",
    "        r1 >= -1, r1 <= 1,\n",
    "        r2 >= -1, r2 <= 1,\n",
    "        r3 >= -1, r3 <= 1\n",
    "    ]\n",
    "\n",
    "    solver = Solver()\n",
    "    solver.add(constraints)\n",
    "    solver.add(Or(portfolio_return < -1, portfolio_return > 1))\n",
    "\n",
    "    result = solver.check()\n",
    "\n",
    "    if result == sat:\n",
    "        return \"Violation found!\", solver.model()\n",
    "    else:\n",
    "        return \"Property holds: Portfolio return within [-1, 1]\"\n",
    "\n",
    "verify_portfolio_return()"
   ]
  },
  {
   "cell_type": "markdown",
   "id": "b5f40b94",
   "metadata": {},
   "source": [
    "## Floating-Point Drift Verification\n",
    "\n",
    "We now introduce a small symbolic error $\\epsilon$ to model the effect of **floating-point inaccuracies**."
   ]
  },
  {
   "cell_type": "code",
   "execution_count": 5,
   "id": "149f7ad1",
   "metadata": {},
   "outputs": [
    {
     "data": {
      "text/plain": [
       "('Violation with numerical drift!',\n",
       " [r2 = 65535/65536,\n",
       "  r3 = 0,\n",
       "  epsilon = 65/65536,\n",
       "  r1 = 0,\n",
       "  w1 = 0,\n",
       "  w2 = 1023/1024,\n",
       "  w3 = 0])"
      ]
     },
     "execution_count": 5,
     "metadata": {},
     "output_type": "execute_result"
    }
   ],
   "source": [
    "def verify_portfolio_with_fp_error():\n",
    "    w1, w2, w3 = Real('w1'), Real('w2'), Real('w3')\n",
    "    r1, r2, r3 = Real('r1'), Real('r2'), Real('r3')\n",
    "    epsilon = Real('epsilon')\n",
    "\n",
    "    portfolio_return = w1 * r1 + w2 * r2 + w3 * r3 + epsilon\n",
    "\n",
    "    constraints = [\n",
    "        w1 >= 0, w1 <= 1,\n",
    "        w2 >= 0, w2 <= 1,\n",
    "        w3 >= 0, w3 <= 1,\n",
    "        (w1 + w2 + w3) <= 1,\n",
    "        r1 >= -1, r1 <= 1,\n",
    "        r2 >= -1, r2 <= 1,\n",
    "        r3 >= -1, r3 <= 1,\n",
    "        epsilon >= -0.001, epsilon <= 0.001\n",
    "    ]\n",
    "\n",
    "    solver = Solver()\n",
    "    solver.add(constraints)\n",
    "    solver.add(Or(portfolio_return < -1, portfolio_return > 1))\n",
    "\n",
    "    result = solver.check()\n",
    "\n",
    "    if result == sat:\n",
    "        return \"Violation with numerical drift!\", solver.model()\n",
    "    else:\n",
    "        return \"Property holds even under small numerical errors.\"\n",
    "\n",
    "verify_portfolio_with_fp_error()"
   ]
  },
  {
   "cell_type": "markdown",
   "id": "8e75eff5",
   "metadata": {},
   "source": [
    "## Multi-Period Portfolio Return Verification\n",
    "\n",
    "We extend the model to **two periods** and check whether the combined return over two periods stays within safe bounds."
   ]
  },
  {
   "cell_type": "code",
   "execution_count": 6,
   "id": "ad5ad4d9",
   "metadata": {},
   "outputs": [
    {
     "data": {
      "text/plain": [
       "'Property holds in multi-period scenario.'"
      ]
     },
     "execution_count": 6,
     "metadata": {},
     "output_type": "execute_result"
    }
   ],
   "source": [
    "def verify_two_period_portfolio():\n",
    "    w1, w2, w3 = Real('w1'), Real('w2'), Real('w3')\n",
    "    r1_1, r2_1, r3_1 = Real('r1_1'), Real('r2_1'), Real('r3_1')\n",
    "    r1_2, r2_2, r3_2 = Real('r1_2'), Real('r2_2'), Real('r3_2')\n",
    "\n",
    "    constraints = [\n",
    "        w1 >= 0, w1 <= 1,\n",
    "        w2 >= 0, w2 <= 1,\n",
    "        w3 >= 0, w3 <= 1,\n",
    "        (w1 + w2 + w3) <= 1,\n",
    "    ] + [And(r >= -1, r <= 1) for r in [r1_1, r2_1, r3_1, r1_2, r2_2, r3_2]]\n",
    "\n",
    "    period1_return = w1 * r1_1 + w2 * r2_1 + w3 * r3_1\n",
    "    period2_return = w1 * r1_2 + w2 * r2_2 + w3 * r3_2\n",
    "\n",
    "    total_return = period1_return + period2_return\n",
    "\n",
    "    solver = Solver()\n",
    "    solver.add(constraints)\n",
    "    solver.add(Or(total_return < -2, total_return > 2))\n",
    "\n",
    "    result = solver.check()\n",
    "\n",
    "    if result == sat:\n",
    "        return \"Violation found in multi-period case!\", solver.model()\n",
    "    else:\n",
    "        return \"Property holds in multi-period scenario.\"\n",
    "\n",
    "verify_two_period_portfolio()"
   ]
  },
  {
   "cell_type": "markdown",
   "id": "ea7af939",
   "metadata": {},
   "source": [
    "## Conclusion\n",
    "\n",
    "**VeriFloat** demonstrates how formal methods can ensure numerical correctness in financial models, even under uncertainty and floating-point drift.\n",
    "\n",
    "This foundation can be extended to more complex financial algorithms for risk analysis, automated reasoning, and verification of safety-critical financial systems."
   ]
  }
 ],
 "metadata": {
  "kernelspec": {
   "display_name": "Python 3",
   "language": "python",
   "name": "python3"
  },
  "language_info": {
   "codemirror_mode": {
    "name": "ipython",
    "version": 3
   },
   "file_extension": ".py",
   "mimetype": "text/x-python",
   "name": "python",
   "nbconvert_exporter": "python",
   "pygments_lexer": "ipython3",
   "version": "3.9.13"
  }
 },
 "nbformat": 4,
 "nbformat_minor": 5
}
